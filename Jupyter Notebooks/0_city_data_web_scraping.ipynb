{
 "cells": [
  {
   "cell_type": "code",
   "execution_count": 40,
   "id": "6ac12231-1c30-447b-a8b3-1d06baddbe94",
   "metadata": {},
   "outputs": [],
   "source": [
    "from bs4 import BeautifulSoup\n",
    "import requests\n",
    "import pandas as pd"
   ]
  },
  {
   "cell_type": "code",
   "execution_count": 41,
   "id": "c4c0ae9e-b859-429e-8012-f3a5a43477c9",
   "metadata": {},
   "outputs": [],
   "source": [
    "url = \"https://en.wikipedia.org/wiki/Berlin\""
   ]
  },
  {
   "cell_type": "code",
   "execution_count": 42,
   "id": "2056a672-bbd1-4bc6-a22b-40d6559603c1",
   "metadata": {},
   "outputs": [
    {
     "data": {
      "text/plain": [
       "200"
      ]
     },
     "execution_count": 42,
     "metadata": {},
     "output_type": "execute_result"
    }
   ],
   "source": [
    "berlin = requests.get(url)\n",
    "berlin.status_code"
   ]
  },
  {
   "cell_type": "code",
   "execution_count": 43,
   "id": "188393de-abe7-46ce-9087-890bbbdbe9dc",
   "metadata": {},
   "outputs": [],
   "source": [
    "berlin_soup = BeautifulSoup(berlin.content, \"html.parser\")"
   ]
  },
  {
   "cell_type": "code",
   "execution_count": 44,
   "id": "7b8bc4c1-5fa4-4731-8d91-3b1cd2c4b619",
   "metadata": {},
   "outputs": [
    {
     "data": {
      "text/plain": [
       "'Berlin'"
      ]
     },
     "execution_count": 44,
     "metadata": {},
     "output_type": "execute_result"
    }
   ],
   "source": [
    "name1 = berlin_soup.select(\".infobox-full-data\")[0].get_text()\n",
    "name1"
   ]
  },
  {
   "cell_type": "code",
   "execution_count": 45,
   "id": "06924486-6ff9-4a3b-844b-75306f6dba36",
   "metadata": {},
   "outputs": [
    {
     "data": {
      "text/plain": [
       "'Germany'"
      ]
     },
     "execution_count": 45,
     "metadata": {},
     "output_type": "execute_result"
    }
   ],
   "source": [
    "country1 = berlin_soup.select(\".infobox-data a\")[0].get_text()\n",
    "country1"
   ]
  },
  {
   "cell_type": "code",
   "execution_count": 46,
   "id": "2a812f9a-f180-430d-9cef-12b8d66d82b4",
   "metadata": {},
   "outputs": [
    {
     "data": {
      "text/plain": [
       "'Germany'"
      ]
     },
     "execution_count": 46,
     "metadata": {},
     "output_type": "execute_result"
    }
   ],
   "source": [
    "country_alt = berlin_soup.select(\".infobox-data a\")[0][\"title\"]\n",
    "country_alt"
   ]
  },
  {
   "cell_type": "code",
   "execution_count": 47,
   "id": "b9f5861b-7406-46ef-9e3d-e29420062c39",
   "metadata": {},
   "outputs": [
    {
     "data": {
      "text/plain": [
       "'52°31′12″N'"
      ]
     },
     "execution_count": 47,
     "metadata": {},
     "output_type": "execute_result"
    }
   ],
   "source": [
    "lat1 = berlin_soup.select(\".latitude\")[0].get_text()\n",
    "lat1"
   ]
  },
  {
   "cell_type": "code",
   "execution_count": 48,
   "id": "2c1583fe-d83f-41f2-b99b-f481410b514f",
   "metadata": {},
   "outputs": [
    {
     "data": {
      "text/plain": [
       "'13°24′18″E'"
      ]
     },
     "execution_count": 48,
     "metadata": {},
     "output_type": "execute_result"
    }
   ],
   "source": [
    "long1 = berlin_soup.select(\".longitude\")[0].get_text()\n",
    "long1"
   ]
  },
  {
   "cell_type": "code",
   "execution_count": 82,
   "id": "19cf85a7-f69d-47dd-ae6b-dd3646b2a91d",
   "metadata": {},
   "outputs": [
    {
     "data": {
      "text/plain": [
       "'34\\xa0m (112\\xa0ft)'"
      ]
     },
     "execution_count": 82,
     "metadata": {},
     "output_type": "execute_result"
    }
   ],
   "source": [
    "elev1 = berlin_soup.select(\".infobox-data\")[5].get_text()\n",
    "elev1"
   ]
  },
  {
   "cell_type": "code",
   "execution_count": 49,
   "id": "9bcfb4a7-c857-44d3-a61b-96d67f0cb986",
   "metadata": {},
   "outputs": [
    {
     "data": {
      "text/plain": [
       "'3,769,495'"
      ]
     },
     "execution_count": 49,
     "metadata": {},
     "output_type": "execute_result"
    }
   ],
   "source": [
    "city_pop = berlin_soup.select(\".infobox-data\")[6].get_text()\n",
    "city_pop"
   ]
  },
  {
   "cell_type": "code",
   "execution_count": 50,
   "id": "9d9e2bdf-d234-4086-b8c7-dc50ca274ab3",
   "metadata": {},
   "outputs": [
    {
     "data": {
      "text/plain": [
       "'4,473,101'"
      ]
     },
     "execution_count": 50,
     "metadata": {},
     "output_type": "execute_result"
    }
   ],
   "source": [
    "urban_pop1 = berlin_soup.select(\".infobox-data\")[7].get_text()\n",
    "urban_pop1"
   ]
  },
  {
   "cell_type": "code",
   "execution_count": 51,
   "id": "eb8fca0b-e76d-4b68-a305-857cf1b180b6",
   "metadata": {},
   "outputs": [
    {
     "data": {
      "text/plain": [
       "'6,144,600'"
      ]
     },
     "execution_count": 51,
     "metadata": {},
     "output_type": "execute_result"
    }
   ],
   "source": [
    "metro_pop1 = berlin_soup.select(\".infobox-data\")[8].get_text()\n",
    "metro_pop1"
   ]
  },
  {
   "cell_type": "code",
   "execution_count": 52,
   "id": "67652bcd-b8a4-46ed-a7c7-315da188acd7",
   "metadata": {},
   "outputs": [],
   "source": [
    "url = \"https://en.wikipedia.org/wiki/Amsterdam\""
   ]
  },
  {
   "cell_type": "code",
   "execution_count": 53,
   "id": "13223277-1fa9-4897-99c8-d5e99694ff6e",
   "metadata": {},
   "outputs": [
    {
     "data": {
      "text/plain": [
       "200"
      ]
     },
     "execution_count": 53,
     "metadata": {},
     "output_type": "execute_result"
    }
   ],
   "source": [
    "amsterdam = requests.get(url)\n",
    "amsterdam.status_code"
   ]
  },
  {
   "cell_type": "code",
   "execution_count": 55,
   "id": "168b149b-99df-43d6-92a3-30bc635dbd1c",
   "metadata": {},
   "outputs": [],
   "source": [
    "amsterdam_soup = BeautifulSoup(amsterdam.content, \"html.parser\")"
   ]
  },
  {
   "cell_type": "code",
   "execution_count": 60,
   "id": "e0fd93a0-7906-4e29-acda-54f7ab4e2b32",
   "metadata": {},
   "outputs": [
    {
     "data": {
      "text/plain": [
       "'Amsterdam'"
      ]
     },
     "execution_count": 60,
     "metadata": {},
     "output_type": "execute_result"
    }
   ],
   "source": [
    "name2 = amsterdam_soup.select(\".fn.org\")[0].get_text()\n",
    "name2"
   ]
  },
  {
   "cell_type": "code",
   "execution_count": 62,
   "id": "ae35638c-d1f2-4bc1-b99e-ea0503d9c13d",
   "metadata": {},
   "outputs": [
    {
     "data": {
      "text/plain": [
       "'Netherlands'"
      ]
     },
     "execution_count": 62,
     "metadata": {},
     "output_type": "execute_result"
    }
   ],
   "source": [
    "country2 = amsterdam_soup.select(\".infobox-data a\")[0].get_text()\n",
    "country2"
   ]
  },
  {
   "cell_type": "code",
   "execution_count": 63,
   "id": "4d0231c4-20e8-471f-b497-2208ad80010a",
   "metadata": {},
   "outputs": [
    {
     "data": {
      "text/plain": [
       "'52°22′N'"
      ]
     },
     "execution_count": 63,
     "metadata": {},
     "output_type": "execute_result"
    }
   ],
   "source": [
    "lat2 = amsterdam_soup.select(\".latitude\")[0].get_text()\n",
    "lat2"
   ]
  },
  {
   "cell_type": "code",
   "execution_count": 64,
   "id": "9e074fdb-c628-4cc4-b5b7-4df0c4a81bdb",
   "metadata": {},
   "outputs": [
    {
     "data": {
      "text/plain": [
       "'4°54′E'"
      ]
     },
     "execution_count": 64,
     "metadata": {},
     "output_type": "execute_result"
    }
   ],
   "source": [
    "long2 = amsterdam_soup.select(\".longitude\")[0].get_text()\n",
    "long2"
   ]
  },
  {
   "cell_type": "code",
   "execution_count": 75,
   "id": "5bbfdaeb-7524-4baa-ad94-a8eeba516ba2",
   "metadata": {},
   "outputs": [
    {
     "data": {
      "text/plain": [
       "'−2\\xa0m (−7\\xa0ft)'"
      ]
     },
     "execution_count": 75,
     "metadata": {},
     "output_type": "execute_result"
    }
   ],
   "source": [
    "elev2 = amsterdam_soup.select(\".infobox-data\")[11].get_text()\n",
    "elev2"
   ]
  },
  {
   "cell_type": "code",
   "execution_count": 77,
   "id": "f4876cba-6550-4eb2-82d3-110aef839d8f",
   "metadata": {},
   "outputs": [
    {
     "data": {
      "text/plain": [
       "'907,976'"
      ]
     },
     "execution_count": 77,
     "metadata": {},
     "output_type": "execute_result"
    }
   ],
   "source": [
    "muni_pop = amsterdam_soup.select(\".infobox-data\")[12].get_text()\n",
    "muni_pop"
   ]
  },
  {
   "cell_type": "code",
   "execution_count": 78,
   "id": "c41cae3a-26b2-46c5-96fd-a39d9a85819f",
   "metadata": {},
   "outputs": [
    {
     "data": {
      "text/plain": [
       "'1,558,755'"
      ]
     },
     "execution_count": 78,
     "metadata": {},
     "output_type": "execute_result"
    }
   ],
   "source": [
    "urban_pop2 = amsterdam_soup.select(\".infobox-data\")[14].get_text()\n",
    "urban_pop2"
   ]
  },
  {
   "cell_type": "code",
   "execution_count": 79,
   "id": "0d883e7e-a40d-4b09-a71b-7ae31474ef0c",
   "metadata": {},
   "outputs": [
    {
     "data": {
      "text/plain": [
       "'2,480,394'"
      ]
     },
     "execution_count": 79,
     "metadata": {},
     "output_type": "execute_result"
    }
   ],
   "source": [
    "metro_pop2 = amsterdam_soup.select(\".infobox-data\")[15].get_text()\n",
    "metro_pop2"
   ]
  }
 ],
 "metadata": {
  "kernelspec": {
   "display_name": "Python 3 (ipykernel)",
   "language": "python",
   "name": "python3"
  },
  "language_info": {
   "codemirror_mode": {
    "name": "ipython",
    "version": 3
   },
   "file_extension": ".py",
   "mimetype": "text/x-python",
   "name": "python",
   "nbconvert_exporter": "python",
   "pygments_lexer": "ipython3",
   "version": "3.9.7"
  }
 },
 "nbformat": 4,
 "nbformat_minor": 5
}
