{
 "cells": [
  {
   "cell_type": "code",
   "execution_count": 1,
   "id": "ccfed6e6-d507-4f2c-aa44-e87768dbb5a3",
   "metadata": {},
   "outputs": [
    {
     "name": "stdout",
     "output_type": "stream",
     "text": [
      "Requirement already satisfied: sqlalchemy in c:\\users\\shrut\\anaconda3\\lib\\site-packages (1.4.22)\n",
      "Requirement already satisfied: greenlet!=0.4.17 in c:\\users\\shrut\\anaconda3\\lib\\site-packages (from sqlalchemy) (1.1.1)\n"
     ]
    }
   ],
   "source": [
    "!pip install sqlalchemy"
   ]
  },
  {
   "cell_type": "code",
   "execution_count": 2,
   "id": "deb105ec-0701-4cfe-8f14-73d444b0c366",
   "metadata": {},
   "outputs": [
    {
     "name": "stdout",
     "output_type": "stream",
     "text": [
      "Requirement already satisfied: pymysql in c:\\users\\shrut\\anaconda3\\lib\\site-packages (1.0.2)\n"
     ]
    }
   ],
   "source": [
    "!pip install pymysql"
   ]
  },
  {
   "cell_type": "code",
   "execution_count": 3,
   "id": "3a3334ca-d9a8-40ca-9ebe-0ad672ae1b55",
   "metadata": {},
   "outputs": [],
   "source": [
    "import sqlalchemy # install if needed\n",
    "from sqlalchemy import create_engine"
   ]
  },
  {
   "cell_type": "code",
   "execution_count": 4,
   "id": "edf26dce-27fe-4200-8b70-580c3914d9fb",
   "metadata": {},
   "outputs": [],
   "source": [
    "import pandas as pd\n",
    "import pymysql\n",
    "import sqlalchemy\n",
    "import os"
   ]
  },
  {
   "cell_type": "code",
   "execution_count": 7,
   "id": "19e57c50-eb1a-42dc-b478-6cf01118521f",
   "metadata": {},
   "outputs": [],
   "source": [
    "city_df = pd.read_csv(\"C:/Users/shrut/OneDrive/Documents/Data_Engineering_Pipelines/city_data.csv\")"
   ]
  },
  {
   "cell_type": "code",
   "execution_count": 8,
   "id": "61ea38b1-6472-4cc2-bc08-0006d2cad622",
   "metadata": {},
   "outputs": [
    {
     "data": {
      "text/html": [
       "<div>\n",
       "<style scoped>\n",
       "    .dataframe tbody tr th:only-of-type {\n",
       "        vertical-align: middle;\n",
       "    }\n",
       "\n",
       "    .dataframe tbody tr th {\n",
       "        vertical-align: top;\n",
       "    }\n",
       "\n",
       "    .dataframe thead th {\n",
       "        text-align: right;\n",
       "    }\n",
       "</style>\n",
       "<table border=\"1\" class=\"dataframe\">\n",
       "  <thead>\n",
       "    <tr style=\"text-align: right;\">\n",
       "      <th></th>\n",
       "      <th>Unnamed: 0</th>\n",
       "      <th>city_id</th>\n",
       "      <th>city</th>\n",
       "      <th>country</th>\n",
       "      <th>country_code</th>\n",
       "      <th>region</th>\n",
       "      <th>elevation</th>\n",
       "      <th>city_latitude</th>\n",
       "      <th>city_longitude</th>\n",
       "      <th>population</th>\n",
       "    </tr>\n",
       "  </thead>\n",
       "  <tbody>\n",
       "    <tr>\n",
       "      <th>0</th>\n",
       "      <td>0</td>\n",
       "      <td>Q64</td>\n",
       "      <td>Berlin</td>\n",
       "      <td>Germany</td>\n",
       "      <td>DE</td>\n",
       "      <td>Berlin</td>\n",
       "      <td>NaN</td>\n",
       "      <td>52.516667</td>\n",
       "      <td>13.383333</td>\n",
       "      <td>3664088</td>\n",
       "    </tr>\n",
       "    <tr>\n",
       "      <th>1</th>\n",
       "      <td>1</td>\n",
       "      <td>Q1055</td>\n",
       "      <td>Hamburg</td>\n",
       "      <td>Germany</td>\n",
       "      <td>DE</td>\n",
       "      <td>Hamburg</td>\n",
       "      <td>NaN</td>\n",
       "      <td>53.550000</td>\n",
       "      <td>10.000000</td>\n",
       "      <td>1852478</td>\n",
       "    </tr>\n",
       "    <tr>\n",
       "      <th>2</th>\n",
       "      <td>2</td>\n",
       "      <td>Q1726</td>\n",
       "      <td>Munich</td>\n",
       "      <td>Germany</td>\n",
       "      <td>DE</td>\n",
       "      <td>Bavaria</td>\n",
       "      <td>519.0</td>\n",
       "      <td>48.134520</td>\n",
       "      <td>11.571000</td>\n",
       "      <td>1488202</td>\n",
       "    </tr>\n",
       "    <tr>\n",
       "      <th>3</th>\n",
       "      <td>3</td>\n",
       "      <td>Q365</td>\n",
       "      <td>Cologne</td>\n",
       "      <td>Germany</td>\n",
       "      <td>DE</td>\n",
       "      <td>North Rhine-Westphalia</td>\n",
       "      <td>52.0</td>\n",
       "      <td>50.942222</td>\n",
       "      <td>6.957778</td>\n",
       "      <td>1083498</td>\n",
       "    </tr>\n",
       "    <tr>\n",
       "      <th>4</th>\n",
       "      <td>4</td>\n",
       "      <td>Q1794</td>\n",
       "      <td>Frankfurt am Main</td>\n",
       "      <td>Germany</td>\n",
       "      <td>DE</td>\n",
       "      <td>Hesse</td>\n",
       "      <td>112.0</td>\n",
       "      <td>50.113611</td>\n",
       "      <td>8.679722</td>\n",
       "      <td>764104</td>\n",
       "    </tr>\n",
       "  </tbody>\n",
       "</table>\n",
       "</div>"
      ],
      "text/plain": [
       "   Unnamed: 0 city_id               city  country country_code  \\\n",
       "0           0     Q64             Berlin  Germany           DE   \n",
       "1           1   Q1055            Hamburg  Germany           DE   \n",
       "2           2   Q1726             Munich  Germany           DE   \n",
       "3           3    Q365            Cologne  Germany           DE   \n",
       "4           4   Q1794  Frankfurt am Main  Germany           DE   \n",
       "\n",
       "                   region  elevation  city_latitude  city_longitude  \\\n",
       "0                  Berlin        NaN      52.516667       13.383333   \n",
       "1                 Hamburg        NaN      53.550000       10.000000   \n",
       "2                 Bavaria      519.0      48.134520       11.571000   \n",
       "3  North Rhine-Westphalia       52.0      50.942222        6.957778   \n",
       "4                   Hesse      112.0      50.113611        8.679722   \n",
       "\n",
       "   population  \n",
       "0     3664088  \n",
       "1     1852478  \n",
       "2     1488202  \n",
       "3     1083498  \n",
       "4      764104  "
      ]
     },
     "execution_count": 8,
     "metadata": {},
     "output_type": "execute_result"
    }
   ],
   "source": [
    "city_df.head()\n"
   ]
  },
  {
   "cell_type": "code",
   "execution_count": 9,
   "id": "a2bcd040-e57a-42a1-9812-7a407c0fc308",
   "metadata": {},
   "outputs": [],
   "source": [
    "city_df.drop(columns = [\"Unnamed: 0\"], inplace = True)\n"
   ]
  }
 ],
 "metadata": {
  "kernelspec": {
   "display_name": "Python 3 (ipykernel)",
   "language": "python",
   "name": "python3"
  },
  "language_info": {
   "codemirror_mode": {
    "name": "ipython",
    "version": 3
   },
   "file_extension": ".py",
   "mimetype": "text/x-python",
   "name": "python",
   "nbconvert_exporter": "python",
   "pygments_lexer": "ipython3",
   "version": "3.9.7"
  }
 },
 "nbformat": 4,
 "nbformat_minor": 5
}
